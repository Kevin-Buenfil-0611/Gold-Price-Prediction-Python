{
 "cells": [
  {
   "cell_type": "code",
   "execution_count": 5,
   "metadata": {},
   "outputs": [
    {
     "name": "stdout",
     "output_type": "stream",
     "text": [
      "      Actual    Predicted\n",
      "1436   469.3   470.781350\n",
      "748    351.6   350.107298\n",
      "3463  1268.2  1272.257508\n",
      "1448   463.2   464.119483\n",
      "4351  1277.5  1268.931110\n"
     ]
    }
   ],
   "source": [
    "# Batch Inference Pipeline Notebook\n",
    "\n",
    "import pandas as pd\n",
    "import pickle\n",
    "import joblib\n",
    "\n",
    "# 1. Cargar los datos de test y el escalador\n",
    "with open(\"processed_data.pkl\", \"rb\") as f:\n",
    "    _, X_test, _, y_test = pickle.load(f)\n",
    "\n",
    "# 2. Cargar el modelo registrado en MLFlow\n",
    "model_uri = \"C:/Users/megag/Documents/Curso IA/Curso Avanzado/Machine Learning Regresion/huber_regressor_model.pkl\"\n",
    "model = joblib.load(model_uri)\n",
    "\n",
    "# 3. Hacer predicciones por lotes\n",
    "y_pred = model.predict(X_test)\n",
    "\n",
    "# 4. Mostrar resultados\n",
    "results = pd.DataFrame({'Actual': y_test, 'Predicted': y_pred})\n",
    "print(results.head())\n",
    "\n",
    "# 5. Guardar predicciones\n",
    "results.to_csv(\"predictions.csv\", index=False)\n"
   ]
  }
 ],
 "metadata": {
  "kernelspec": {
   "display_name": "Python 3",
   "language": "python",
   "name": "python3"
  },
  "language_info": {
   "codemirror_mode": {
    "name": "ipython",
    "version": 3
   },
   "file_extension": ".py",
   "mimetype": "text/x-python",
   "name": "python",
   "nbconvert_exporter": "python",
   "pygments_lexer": "ipython3",
   "version": "3.12.2"
  }
 },
 "nbformat": 4,
 "nbformat_minor": 2
}
